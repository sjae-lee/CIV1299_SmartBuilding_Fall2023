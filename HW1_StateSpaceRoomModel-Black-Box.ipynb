{
 "cells": [
  {
   "cell_type": "markdown",
   "id": "a5b8ce10",
   "metadata": {},
   "source": [
    "# Black-Box Room Modelling\n",
    "You have a dataset collected from a room, which includes (i) indoor air temperature (Ti) in °C, (ii) outdoor air temperature (To) in °C, (iii) HVAC heating rate (q_HVAC) in W, and (iv) absorbed solar radiation (q_solar) in W. With this dataset, estimate the A and B matrixes."
   ]
  },
  {
   "cell_type": "markdown",
   "id": "45f37fdc",
   "metadata": {},
   "source": [
    "### Load Libraries & Packages"
   ]
  },
  {
   "cell_type": "code",
   "execution_count": null,
   "id": "0f981549",
   "metadata": {},
   "outputs": [],
   "source": [
    "import numpy as np\n",
    "from scipy.integrate import odeint\n",
    "from scipy.optimize import minimize\n",
    "from scipy.signal import cont2discrete\n",
    "import pickle\n",
    "import matplotlib.pyplot as plt\n",
    "import pygad"
   ]
  },
  {
   "cell_type": "markdown",
   "id": "69c78596",
   "metadata": {},
   "source": [
    "### Import and visualize Data"
   ]
  },
  {
   "cell_type": "code",
   "execution_count": null,
   "id": "258ffaf0",
   "metadata": {},
   "outputs": [],
   "source": [
    "with open('HW1_Data.pickle', 'rb') as f:\n",
    "    Data = pickle.load(f)\n",
    "Ti = Data['Ti'] # indoor air temperature in degC\n",
    "To = Data['To'] # outdoor air temperature in degC\n",
    "q_HVAC = Data['q_HVAC'] # HVAC heating rate in W\n",
    "q_solar = Data['q_solar'] # absorbed solar radiation in W\n",
    "N = To.shape[0] # number of timesteps\n",
    "\n",
    "t_span = np.arange(0,N+1)\n",
    "fig, ax = plt.subplots(1,2,figsize=(15,5))\n",
    "ax[0].plot(Ti, label='T_indoor')\n",
    "ax[0].plot(To, label='T_outdoor')\n",
    "ax[0].set_xticks(t_span[::6*24],t_span[::6*24]*10/60)\n",
    "ax[0].set_ylabel('Temperature [$\\degree$C]')\n",
    "ax[0].set_xlabel('Time [hour]')\n",
    "ax[0].legend()\n",
    "\n",
    "ax[1].plot(q_HVAC, label='q_HVAC')\n",
    "ax[1].plot(q_solar, label='q_solar')\n",
    "ax[1].set_xticks(t_span[::6*24],t_span[::6*24]*10/60)\n",
    "ax[1].set_ylabel('Energy Rate [W]')\n",
    "ax[1].set_xlabel('Time [hour]')\n",
    "ax[1].legend()\n",
    "\n",
    "plt.show()"
   ]
  },
  {
   "cell_type": "code",
   "execution_count": null,
   "id": "ee1324da",
   "metadata": {},
   "outputs": [],
   "source": [
    "def simulation(params): \n",
    "    ##########################################################################################################\n",
    "    # Please know that you don't have Rs and Cs any longer. You directly estimate the 10 elements in A and B #\n",
    "    ##########################################################################################################\n",
    "    \n",
    "    # continuous time invariant state-space\n",
    "    A = np.array([[params[0],params[1]],\n",
    "                  [params[2],params[3]]])\n",
    "    B = np.array([[params[4],params[5],params[6]],\n",
    "                  [params[7],params[8],params[9]]])\n",
    "    C = np.eye(2) # assume that C is known\n",
    "    D = np.zeros((2,3)) # assume that D is known\n",
    "      \n",
    "    # discrete state-space\n",
    "    Ad, Bd, Cd, Dd, _ = cont2discrete((A,B,C,D), 10*60) # discretization with 10 minute time interval\n",
    "    \n",
    "    x = np.zeros((2, N+1))\n",
    "    x[0,0] = 20 # initial Ti\n",
    "    x[1,0] = 15 # initial Tw\n",
    "    \n",
    "    # compute states over the simulation period\n",
    "    for i in range(N):\n",
    "        q_HVAC_t = q_HVAC[i]\n",
    "        q_solar_t = q_solar[i]\n",
    "        To_t = To[i]\n",
    "        u_t = np.array([q_HVAC_t, q_solar_t, To_t])[:,None] # input vector\n",
    "        x[:,i+1:i+2] = np.dot(Ad,x[:,i:i+1]) + np.dot(Bd,u_t)\n",
    "    return x\n",
    "\n",
    "def objective(ga_instance, solution, solution_idx):\n",
    "    # run simulation\n",
    "    x = simulation(solution)\n",
    "    \n",
    "    # error metric\n",
    "    metric = ######################################## the same function you used for grey-box ########################################\n",
    "    return 1/metric"
   ]
  },
  {
   "cell_type": "code",
   "execution_count": null,
   "id": "efa31944",
   "metadata": {
    "scrolled": true
   },
   "outputs": [],
   "source": [
    "# parameter estimation with a genetic algorithm\n",
    "last_fitness = 0\n",
    "def on_generation(ga_instance):\n",
    "    global last_fitness\n",
    "    print(f\"Generation = {ga_instance.generations_completed}\")\n",
    "    print(f\"Fitness    = {ga_instance.best_solution(pop_fitness=ga_instance.last_generation_fitness)[1]}\")\n",
    "    print(f\"Change     = {ga_instance.best_solution(pop_fitness=ga_instance.last_generation_fitness)[1] - last_fitness}\")\n",
    "    last_fitness = ga_instance.best_solution(pop_fitness=ga_instance.last_generation_fitness)[1]\n",
    "\n",
    "lb_params = [] # <------ lower bounds for the 10 elements in A and B. Add 10 values with comma seperators.\n",
    "ub_params = [] # <------ upper bounds for the 10 elements in A and B. Add 10 values with comma seperators.\n",
    "\n",
    "### for example,\n",
    "# lb_params = [-6e-05, 4e-05, ..., 5e-06]\n",
    "# ub_params = [-4e-05, 6e-05, ..., 7e-06]\n",
    "# Where can we get resonable values for the bounds?\n",
    "\n",
    "ga_instance = pygad.GA(num_generations=500,\n",
    "                       num_parents_mating=10,\n",
    "                       sol_per_pop=50,\n",
    "                       gene_space=[{'low': lb_params[0], 'high': ub_params[0]},\n",
    "                                   {'low': lb_params[1], 'high': ub_params[1]},\n",
    "                                   {'low': lb_params[2], 'high': ub_params[2]},\n",
    "                                   {'low': lb_params[3], 'high': ub_params[3]},\n",
    "                                   {'low': lb_params[4], 'high': ub_params[4]},\n",
    "                                   {'low': lb_params[5], 'high': ub_params[5]},\n",
    "                                   {'low': lb_params[6], 'high': ub_params[6]},\n",
    "                                   {'low': lb_params[7], 'high': ub_params[7]},\n",
    "                                   {'low': lb_params[8], 'high': ub_params[8]},\n",
    "                                   {'low': lb_params[9], 'high': ub_params[9]}],\n",
    "                       num_genes=10, # <------------------------------------- the number of model parameters (the 10 elements in A and B)\n",
    "                       fitness_func=objective,\n",
    "                       on_generation=on_generation\n",
    "                      )\n",
    "ga_instance.run()\n",
    "ga_instance.plot_fitness()\n",
    "solution, solution_fitness, solution_idx = ga_instance.best_solution(ga_instance.last_generation_fitness)"
   ]
  },
  {
   "cell_type": "code",
   "execution_count": null,
   "id": "b51091fe",
   "metadata": {},
   "outputs": [],
   "source": [
    "# scale them back\n",
    "x = simulation(solution)\n",
    "\n",
    "Ti_simulation = x[0,:] # Indoor temperature \n",
    "Tw_simulation = x[1,:]\n",
    "\n",
    "# plotting\n",
    "t_span = np.arange(0,N+1)\n",
    "fig, ax = plt.subplots(1,2,figsize=(15,5))\n",
    "ax[0].plot(Ti, label='Ti_original')\n",
    "ax[0].plot(Ti_simulation, label='Ti_simulation', linestyle='--')\n",
    "ax[0].plot(Tw_simulation, label='Tw_simulation')\n",
    "ax[0].plot(To, label='To')\n",
    "ax[0].set_xticks(t_span[::6*24],t_span[::6*24]*10/60)\n",
    "ax[0].set_ylabel('Temperature [$\\degree$C]')\n",
    "ax[0].set_xlabel('Time [hour]')\n",
    "ax[0].legend()\n",
    "\n",
    "ax[1].plot(q_HVAC, label='q_HVAC')\n",
    "ax[1].plot(q_solar, label='q_solar')\n",
    "ax[1].set_xticks(t_span[::6*24],t_span[::6*24]*10/60)\n",
    "ax[1].set_ylabel('Energy Rate [W]')\n",
    "ax[1].set_xlabel('Time [hour]')\n",
    "ax[1].legend()\n",
    "\n",
    "plt.show()"
   ]
  },
  {
   "cell_type": "code",
   "execution_count": null,
   "id": "021072c7",
   "metadata": {},
   "outputs": [],
   "source": []
  }
 ],
 "metadata": {
  "kernelspec": {
   "display_name": "Python 3 (ipykernel)",
   "language": "python",
   "name": "python3"
  },
  "language_info": {
   "codemirror_mode": {
    "name": "ipython",
    "version": 3
   },
   "file_extension": ".py",
   "mimetype": "text/x-python",
   "name": "python",
   "nbconvert_exporter": "python",
   "pygments_lexer": "ipython3",
   "version": "3.10.9"
  }
 },
 "nbformat": 4,
 "nbformat_minor": 5
}
