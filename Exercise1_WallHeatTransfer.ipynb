{
 "cells": [
  {
   "cell_type": "code",
   "execution_count": null,
   "id": "f3d3767e",
   "metadata": {},
   "outputs": [],
   "source": [
    "# import packages\n",
    "import numpy as np\n",
    "from scipy.integrate import odeint # ode solver\n",
    "import matplotlib.pyplot as plt"
   ]
  },
  {
   "cell_type": "code",
   "execution_count": null,
   "id": "4980a5d9",
   "metadata": {},
   "outputs": [],
   "source": [
    "h = 3 # convective heat transfer coefficient [W/m^2K]\n",
    "A = 10 # wall surface area [m^2]\n",
    "k = 1.9 # thermal conductivity [W/mK]\n",
    "l = 0.3 # wall thickness [m]\n",
    "cp = 840 # specific heat [J/kgK]\n",
    "rho = 2300 # density [kg/m^3]\n",
    "C = cp*rho*A*l # thermal capacity\n",
    "\n",
    "coff1 = h*A \n",
    "coff2 = (k*A) / (l/2)\n",
    "\n",
    "def cal_T2(T1,T3):\n",
    "    return ########## add an equation ##########\n",
    "\n",
    "def cal_T4(T5,T3):\n",
    "    return ########## add an equation ##########\n",
    "\n",
    "def func_T5(t): # outdoor air temperature follows a sin function \n",
    "    return np.sin((t-3600*12)/(60*60*24)*(2*np.pi))*3+25\n",
    "\n",
    "def dTdt(x, t): # the rate of T3 temperature change\n",
    "    T1 = 20 # fixed indoor air temperature\n",
    "    T5 = func_T5(t) # outdoor air temperature\n",
    "    T3 = x[0] # initial temperature of T3\n",
    "    T2 = cal_T2(T1,T3) # T2 temperature\n",
    "    T4 = cal_T4(T5,T3) # T4 temperature\n",
    "    dT3dt = ########## add an equation ##########\n",
    "    return [dT3dt]"
   ]
  },
  {
   "cell_type": "code",
   "execution_count": null,
   "id": "5ff808ac",
   "metadata": {},
   "outputs": [],
   "source": [
    "# simulation time\n",
    "t_span = np.linspace(0, (60*60*24)*1, (60*60*24)+1) \n",
    "\n",
    "# Initial T3 temperature\n",
    "T3_0 = 22.25\n",
    "\n",
    "# run simulation using ode solver\n",
    "solution = odeint(dTdt, [T3_0], t_span)\n",
    "\n",
    "T1 = np.ones_like(t_span)*20\n",
    "T5 = func_T5(t_span)\n",
    "T3 = solution[:, 0]\n",
    "T2 = cal_T2(T1,T3)\n",
    "T4 = cal_T4(T5,T3)\n",
    "\n",
    "# plot\n",
    "plt.plot(t_span, T1, label='T1')\n",
    "plt.plot(t_span, T2, label='T2')\n",
    "plt.plot(t_span, T3, label='T3')\n",
    "plt.plot(t_span, T4, label='T4')\n",
    "plt.plot(t_span, T5, label='T5')\n",
    "plt.legend();\n",
    "plt.xticks(t_span[::60*60*3],t_span[::60*60*3]/3600)\n",
    "plt.xlabel('time'); "
   ]
  },
  {
   "cell_type": "code",
   "execution_count": null,
   "id": "97d78e83",
   "metadata": {},
   "outputs": [],
   "source": []
  }
 ],
 "metadata": {
  "kernelspec": {
   "display_name": "Python 3 (ipykernel)",
   "language": "python",
   "name": "python3"
  },
  "language_info": {
   "codemirror_mode": {
    "name": "ipython",
    "version": 3
   },
   "file_extension": ".py",
   "mimetype": "text/x-python",
   "name": "python",
   "nbconvert_exporter": "python",
   "pygments_lexer": "ipython3",
   "version": "3.10.9"
  }
 },
 "nbformat": 4,
 "nbformat_minor": 5
}
